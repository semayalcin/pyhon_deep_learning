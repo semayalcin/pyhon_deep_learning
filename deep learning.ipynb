{
 "cells": [
  {
   "cell_type": "code",
   "execution_count": 1,
   "id": "b7e19843",
   "metadata": {},
   "outputs": [],
   "source": [
    "# Sema Yalçın - 20120205034\n",
    "import numpy as np\n",
    "import pandas as pd\n",
    "import seaborn as sns\n",
    "import os\n",
    "import cv2\n",
    "import random\n",
    "import zipfile\n",
    "from PIL import Image\n",
    "import tensorflow as tf\n",
    "import matplotlib.pyplot as plt\n",
    "from sklearn.model_selection import train_test_split\n",
    "from sklearn.preprocessing import LabelEncoder, OneHotEncoder\n",
    "from tensorflow.keras.utils import to_categorical\n",
    "from tensorflow.keras.callbacks import ReduceLROnPlateau\n",
    "from tensorflow.keras.optimizers import Adam\n",
    "from tensorflow.keras.models import Sequential, Model\n",
    "from tensorflow.keras.layers import Conv2D, MaxPooling2D, Flatten, Dense, LSTM, GlobalAveragePooling2D\n",
    "from sklearn.metrics import accuracy_score, precision_score, recall_score, f1_score\n",
    "from tensorflow.keras.applications import InceptionV3, ResNet50"
   ]
  },
  {
   "cell_type": "code",
   "execution_count": 2,
   "id": "9ad283fb",
   "metadata": {},
   "outputs": [],
   "source": [
    "zip_file_path = \"dataset.zip\"\n",
    "extract_folder = \"extracted_images\"\n",
    "\n",
    "# Dosyayı zipten çıkardım.\n",
    "with zipfile.ZipFile(zip_file_path, 'r') as zip_ref:\n",
    "    # SolvaDataset_200_v3 kalörünü çıkardım.\n",
    "    zip_ref.extractall(extract_folder)"
   ]
  },
  {
   "cell_type": "code",
   "execution_count": 3,
   "id": "037c497c",
   "metadata": {},
   "outputs": [],
   "source": [
    "# Görüntülerin dosya yollarını sakladım.\n",
    "image_paths = []\n",
    "root_folder = os.path.join(extract_folder, \"SolvaDataset_200_v3\")\n",
    "\n",
    "for root, dirs, files in os.walk(root_folder):\n",
    "    for file in files:\n",
    "        if file.endswith(\".bmp\"):\n",
    "            image_path = os.path.join(root, file)\n",
    "            image_paths.append(image_path)\n",
    "\n",
    "random.shuffle(image_paths)"
   ]
  },
  {
   "cell_type": "code",
   "execution_count": 4,
   "id": "b9658d1a",
   "metadata": {},
   "outputs": [],
   "source": [
    "# Train ve test olarak ayırdım.\n",
    "train_paths, test_paths = train_test_split(image_paths, test_size=0.2, random_state=42)\n",
    "\n",
    "train_images = []\n",
    "train_labels = []\n",
    "test_images = []\n",
    "test_labels = []\n",
    "\n",
    "# Train ve test verilerini sınıflara göre ayırdım ve class bilgilerini oluşturdum.\n",
    "for path in train_paths:\n",
    "    folder_name = os.path.basename(os.path.dirname(path))\n",
    "    image = Image.open(path).convert('L')\n",
    "    train_images.append(np.array(image))\n",
    "    train_labels.append(folder_name)\n",
    "\n",
    "for path in test_paths:\n",
    "    folder_name = os.path.basename(os.path.dirname(path))\n",
    "    image = Image.open(path).convert('L')\n",
    "    test_images.append(np.array(image))\n",
    "    test_labels.append(folder_name)\n",
    "\n",
    "# Class bilgilerini one-hot-encoding yaptım.\n",
    "label_encoder = LabelEncoder()\n",
    "train_labels_encoded = label_encoder.fit_transform(train_labels)\n",
    "test_labels_encoded = label_encoder.transform(test_labels)\n",
    "\n",
    "onehot_encoder = OneHotEncoder(sparse=False)\n",
    "train_labels_encoded = onehot_encoder.fit_transform(train_labels_encoded.reshape(-1, 1))\n",
    "test_labels_encoded = onehot_encoder.transform(test_labels_encoded.reshape(-1, 1))"
   ]
  },
  {
   "cell_type": "code",
   "execution_count": 5,
   "id": "148c188b",
   "metadata": {},
   "outputs": [],
   "source": [
    "# Train ve test verilerini numpy dizisine aldım.\n",
    "x_train = np.array(train_images)\n",
    "y_train = np.array(train_labels_encoded)\n",
    "x_test = np.array(test_images)\n",
    "y_test = np.array(test_labels_encoded)\n",
    "\n",
    "# Train ve test verilerini reshape yaptım.\n",
    "x_train = x_train.reshape(-1, 120, 120, 1)\n",
    "x_test = x_test.reshape(-1, 120, 120, 1)"
   ]
  },
  {
   "cell_type": "code",
   "execution_count": 6,
   "id": "84b8b088",
   "metadata": {},
   "outputs": [
    {
     "data": {
      "text/plain": [
       "(2361, 120, 120, 1)"
      ]
     },
     "execution_count": 6,
     "metadata": {},
     "output_type": "execute_result"
    }
   ],
   "source": [
    "x_train.shape"
   ]
  },
  {
   "cell_type": "code",
   "execution_count": 7,
   "id": "edb5f5ae",
   "metadata": {},
   "outputs": [
    {
     "data": {
      "text/plain": [
       "(591, 120, 120, 1)"
      ]
     },
     "execution_count": 7,
     "metadata": {},
     "output_type": "execute_result"
    }
   ],
   "source": [
    "x_test.shape"
   ]
  },
  {
   "cell_type": "code",
   "execution_count": 8,
   "id": "278fb9ba",
   "metadata": {},
   "outputs": [
    {
     "data": {
      "text/plain": [
       "(2361, 15)"
      ]
     },
     "execution_count": 8,
     "metadata": {},
     "output_type": "execute_result"
    }
   ],
   "source": [
    "y_train.shape"
   ]
  },
  {
   "cell_type": "code",
   "execution_count": 9,
   "id": "10d85540",
   "metadata": {},
   "outputs": [
    {
     "data": {
      "text/plain": [
       "(591, 15)"
      ]
     },
     "execution_count": 9,
     "metadata": {},
     "output_type": "execute_result"
    }
   ],
   "source": [
    "y_test.shape"
   ]
  },
  {
   "cell_type": "code",
   "execution_count": 10,
   "id": "a4c5d714",
   "metadata": {},
   "outputs": [
    {
     "name": "stdout",
     "output_type": "stream",
     "text": [
      "Model: \"sequential\"\n",
      "_________________________________________________________________\n",
      " Layer (type)                Output Shape              Param #   \n",
      "=================================================================\n",
      " conv2d (Conv2D)             (None, 120, 120, 6)       156       \n",
      "                                                                 \n",
      " max_pooling2d (MaxPooling2D  (None, 60, 60, 6)        0         \n",
      " )                                                               \n",
      "                                                                 \n",
      " conv2d_1 (Conv2D)           (None, 56, 56, 16)        2416      \n",
      "                                                                 \n",
      " max_pooling2d_1 (MaxPooling  (None, 28, 28, 16)       0         \n",
      " 2D)                                                             \n",
      "                                                                 \n",
      " flatten (Flatten)           (None, 12544)             0         \n",
      "                                                                 \n",
      " dense (Dense)               (None, 120)               1505400   \n",
      "                                                                 \n",
      " dense_1 (Dense)             (None, 84)                10164     \n",
      "                                                                 \n",
      " dense_2 (Dense)             (None, 15)                1275      \n",
      "                                                                 \n",
      "=================================================================\n",
      "Total params: 1,519,411\n",
      "Trainable params: 1,519,411\n",
      "Non-trainable params: 0\n",
      "_________________________________________________________________\n"
     ]
    }
   ],
   "source": [
    "# LeNet mimarisi\n",
    "model = Sequential()\n",
    "model.add(Conv2D(6, kernel_size=(5, 5), padding = 'same', activation=\"relu\", input_shape=(120, 120, 1)))\n",
    "model.add(MaxPooling2D(pool_size=(2, 2)))\n",
    "model.add(Conv2D(16, kernel_size=(5, 5), padding = 'valid', activation=\"relu\"))\n",
    "model.add(MaxPooling2D(pool_size=(2, 2)))\n",
    "model.add(Flatten())\n",
    "model.add(Dense(120, activation=\"relu\"))\n",
    "model.add(Dense(84, activation=\"relu\"))\n",
    "model.add(Dense(15, activation=\"softmax\"))\n",
    "\n",
    "model.build()\n",
    "model.summary()"
   ]
  },
  {
   "cell_type": "code",
   "execution_count": 11,
   "id": "0eeeb8c4",
   "metadata": {},
   "outputs": [],
   "source": [
    "# Model derleme\n",
    "adam = Adam(learning_rate = 5e-4)\n",
    "model.compile(loss=\"categorical_crossentropy\", optimizer = adam, metrics=[\"accuracy\"])"
   ]
  },
  {
   "cell_type": "code",
   "execution_count": 12,
   "id": "2d19a7ef",
   "metadata": {},
   "outputs": [],
   "source": [
    "# Learning rate azaltmak için geri çağırma uyguladım.\n",
    "reduce_lr = ReduceLROnPlateau(monitor='val_accuracy', factor=0.1, patience=3, verbose=1, min_lr = 1e-6)"
   ]
  },
  {
   "cell_type": "code",
   "execution_count": 13,
   "id": "c8289433",
   "metadata": {},
   "outputs": [
    {
     "data": {
      "text/plain": [
       "(2361, 120, 120, 1)"
      ]
     },
     "execution_count": 13,
     "metadata": {},
     "output_type": "execute_result"
    }
   ],
   "source": [
    "x_train.shape"
   ]
  },
  {
   "cell_type": "code",
   "execution_count": 14,
   "id": "a662f158",
   "metadata": {},
   "outputs": [
    {
     "data": {
      "text/plain": [
       "(2361, 15)"
      ]
     },
     "execution_count": 14,
     "metadata": {},
     "output_type": "execute_result"
    }
   ],
   "source": [
    "y_train.shape"
   ]
  },
  {
   "cell_type": "code",
   "execution_count": 16,
   "id": "75d96ff0",
   "metadata": {},
   "outputs": [
    {
     "name": "stdout",
     "output_type": "stream",
     "text": [
      "Epoch 1/10\n",
      "74/74 [==============================] - 9s 114ms/step - loss: 5.5535 - accuracy: 0.2973 - val_loss: 1.9120 - val_accuracy: 0.3976 - lr: 5.0000e-04\n",
      "Epoch 2/10\n",
      "74/74 [==============================] - 8s 114ms/step - loss: 1.1987 - accuracy: 0.6184 - val_loss: 1.5635 - val_accuracy: 0.5347 - lr: 5.0000e-04\n",
      "Epoch 3/10\n",
      "74/74 [==============================] - 12s 163ms/step - loss: 0.5396 - accuracy: 0.8386 - val_loss: 1.5399 - val_accuracy: 0.5719 - lr: 5.0000e-04\n",
      "Epoch 4/10\n",
      "74/74 [==============================] - 13s 170ms/step - loss: 0.1991 - accuracy: 0.9504 - val_loss: 1.5515 - val_accuracy: 0.6142 - lr: 5.0000e-04\n",
      "Epoch 5/10\n",
      "74/74 [==============================] - 14s 184ms/step - loss: 0.0711 - accuracy: 0.9911 - val_loss: 1.6877 - val_accuracy: 0.5990 - lr: 5.0000e-04\n",
      "Epoch 6/10\n",
      "74/74 [==============================] - 14s 188ms/step - loss: 0.0265 - accuracy: 0.9983 - val_loss: 1.7206 - val_accuracy: 0.6091 - lr: 5.0000e-04\n",
      "Epoch 7/10\n",
      "74/74 [==============================] - 16s 223ms/step - loss: 0.0143 - accuracy: 0.9992 - val_loss: 1.8147 - val_accuracy: 0.6193 - lr: 5.0000e-04\n",
      "Epoch 8/10\n",
      "74/74 [==============================] - 17s 224ms/step - loss: 0.0062 - accuracy: 1.0000 - val_loss: 1.8805 - val_accuracy: 0.6210 - lr: 5.0000e-04\n",
      "Epoch 9/10\n",
      "74/74 [==============================] - 17s 225ms/step - loss: 0.0037 - accuracy: 1.0000 - val_loss: 1.9283 - val_accuracy: 0.6261 - lr: 5.0000e-04\n",
      "Epoch 10/10\n",
      "74/74 [==============================] - 16s 212ms/step - loss: 0.0028 - accuracy: 1.0000 - val_loss: 1.9665 - val_accuracy: 0.6261 - lr: 5.0000e-04\n"
     ]
    },
    {
     "data": {
      "text/plain": [
       "<keras.callbacks.History at 0x2355ce03820>"
      ]
     },
     "execution_count": 16,
     "metadata": {},
     "output_type": "execute_result"
    }
   ],
   "source": [
    "model.fit(x_train, y_train, batch_size=32, epochs=10, validation_data=(x_test, y_test), callbacks=[reduce_lr])"
   ]
  },
  {
   "cell_type": "code",
   "execution_count": 18,
   "id": "67ccd194",
   "metadata": {},
   "outputs": [
    {
     "name": "stdout",
     "output_type": "stream",
     "text": [
      "19/19 - 0s - loss: 1.9665 - accuracy: 0.6261 - 472ms/epoch - 25ms/step\n",
      "Test Loss: 1.9665337800979614\n",
      "Test Accuracy: 62.61%\n"
     ]
    }
   ],
   "source": [
    "test_loss, test_accuracy = model.evaluate(x_test, y_test, verbose=2)\n",
    "\n",
    "print(\"Test Loss:\", test_loss)\n",
    "print(\"Test Accuracy: {:.2%}\".format(test_accuracy))"
   ]
  },
  {
   "cell_type": "code",
   "execution_count": 19,
   "id": "7159600d",
   "metadata": {},
   "outputs": [
    {
     "name": "stdout",
     "output_type": "stream",
     "text": [
      "19/19 [==============================] - 1s 25ms/step\n",
      "Kesinlik:  0.6391738774874531\n",
      "Geri Çağırma:  0.626057529610829\n",
      "F-ölçüsü:  0.626782703497515\n"
     ]
    }
   ],
   "source": [
    "y_pred = model.predict(x_test)\n",
    "y_pred = np.argmax(y_pred, axis=1)\n",
    "\n",
    "y_true = np.argmax(y_test, axis=1)\n",
    "\n",
    "# Kesinlik\n",
    "precision = precision_score(y_true, y_pred, average='weighted', zero_division=1)\n",
    "\n",
    "# Geri çağırma\n",
    "recall = recall_score(y_true, y_pred, average='weighted', zero_division=1)\n",
    "\n",
    "# F-ölçüsü\n",
    "f1 = f1_score(y_true, y_pred, average='weighted', zero_division=1)\n",
    "\n",
    "print(\"Kesinlik: \", precision)\n",
    "print(\"Geri Çağırma: \", recall)\n",
    "print(\"F-ölçüsü: \", f1)"
   ]
  },
  {
   "cell_type": "code",
   "execution_count": 15,
   "id": "58fed371",
   "metadata": {},
   "outputs": [],
   "source": [
    "# Google-net modeli için ayarlamalr yaptım. Görüntüyü rgb görüntüsüne dönüştürdüm.\n",
    "input_shape = (120, 120, 3)\n",
    "\n",
    "x_train_rgb = [cv2.cvtColor(img, cv2.COLOR_GRAY2RGB) for img in x_train]\n",
    "x_test_rgb = [cv2.cvtColor(img, cv2.COLOR_GRAY2RGB) for img in x_test]\n",
    "\n",
    "base_model = InceptionV3(input_shape=input_shape, include_top=False, weights='imagenet')\n",
    "\n",
    "for layer in base_model.layers:\n",
    "    layer.trainable = False"
   ]
  },
  {
   "cell_type": "code",
   "execution_count": 16,
   "id": "8f5b5acc",
   "metadata": {},
   "outputs": [],
   "source": [
    "# Google-net modeli\n",
    "x = base_model.output\n",
    "x = GlobalAveragePooling2D()(x)\n",
    "x = Dense(1024, activation='relu')(x)\n",
    "predictions = Dense(15, activation='softmax')(x)\n",
    "\n",
    "model_google_net = Model(inputs=base_model.input, outputs=predictions)"
   ]
  },
  {
   "cell_type": "code",
   "execution_count": 17,
   "id": "a1e338bc",
   "metadata": {},
   "outputs": [
    {
     "data": {
      "text/plain": [
       "(591, 120, 120, 3)"
      ]
     },
     "execution_count": 17,
     "metadata": {},
     "output_type": "execute_result"
    }
   ],
   "source": [
    "x_train_rgb = np.array(x_train_rgb)\n",
    "x_test_rgb = np.array(x_test_rgb)\n",
    "x_test_rgb.shape"
   ]
  },
  {
   "cell_type": "code",
   "execution_count": 23,
   "id": "6d263f4a",
   "metadata": {},
   "outputs": [
    {
     "name": "stdout",
     "output_type": "stream",
     "text": [
      "Epoch 1/10\n",
      "74/74 [==============================] - 44s 538ms/step - loss: 46.7743 - accuracy: 0.3727 - val_loss: 5.6285 - val_accuracy: 0.5398\n",
      "Epoch 2/10\n",
      "74/74 [==============================] - 42s 576ms/step - loss: 3.8775 - accuracy: 0.6019 - val_loss: 3.1562 - val_accuracy: 0.5922\n",
      "Epoch 3/10\n",
      "74/74 [==============================] - 40s 545ms/step - loss: 2.3511 - accuracy: 0.6222 - val_loss: 2.7406 - val_accuracy: 0.5770\n",
      "Epoch 4/10\n",
      "74/74 [==============================] - 41s 562ms/step - loss: 1.6095 - accuracy: 0.6650 - val_loss: 2.1729 - val_accuracy: 0.5685\n",
      "Epoch 5/10\n",
      "74/74 [==============================] - 43s 580ms/step - loss: 1.0151 - accuracy: 0.7039 - val_loss: 1.6535 - val_accuracy: 0.5956\n",
      "Epoch 6/10\n",
      "74/74 [==============================] - 44s 595ms/step - loss: 0.7950 - accuracy: 0.7590 - val_loss: 1.3095 - val_accuracy: 0.6464\n",
      "Epoch 7/10\n",
      "74/74 [==============================] - 38s 509ms/step - loss: 0.6588 - accuracy: 0.7798 - val_loss: 1.3450 - val_accuracy: 0.6616\n",
      "Epoch 8/10\n",
      "74/74 [==============================] - 33s 441ms/step - loss: 0.5369 - accuracy: 0.8170 - val_loss: 1.7266 - val_accuracy: 0.6142\n",
      "Epoch 9/10\n",
      "74/74 [==============================] - 33s 443ms/step - loss: 0.4790 - accuracy: 0.8348 - val_loss: 1.4169 - val_accuracy: 0.6548\n",
      "Epoch 10/10\n",
      "74/74 [==============================] - 35s 472ms/step - loss: 0.5045 - accuracy: 0.8297 - val_loss: 1.3327 - val_accuracy: 0.6582\n"
     ]
    },
    {
     "data": {
      "text/plain": [
       "<keras.callbacks.History at 0x2355d6407f0>"
      ]
     },
     "execution_count": 23,
     "metadata": {},
     "output_type": "execute_result"
    }
   ],
   "source": [
    "# Modeli derle\n",
    "model_google_net.compile(optimizer=Adam(learning_rate=0.001), loss='categorical_crossentropy', metrics=['accuracy'])\n",
    "\n",
    "# Modeli fit et\n",
    "model_google_net.fit(x_train_rgb, y_train, epochs=10, batch_size=32, validation_data=(x_test_rgb, y_test))"
   ]
  },
  {
   "cell_type": "code",
   "execution_count": 30,
   "id": "c84b18f3",
   "metadata": {},
   "outputs": [
    {
     "name": "stdout",
     "output_type": "stream",
     "text": [
      "19/19 - 5s - loss: 1.3327 - accuracy: 0.6582 - 5s/epoch - 263ms/step\n",
      "Test Loss: 1.3327076435089111\n",
      "Test Accuracy: 65.82%\n"
     ]
    }
   ],
   "source": [
    "test_loss, test_accuracy = model_google_net.evaluate(x_test_rgb, y_test, verbose=2)\n",
    "\n",
    "print(\"Test Loss:\", test_loss)\n",
    "print(\"Test Accuracy: {:.2%}\".format(test_accuracy))"
   ]
  },
  {
   "cell_type": "code",
   "execution_count": 25,
   "id": "c5c2df5b",
   "metadata": {},
   "outputs": [
    {
     "name": "stdout",
     "output_type": "stream",
     "text": [
      "19/19 [==============================] - 5s 211ms/step\n",
      "Kesinlik:  0.7000709186972678\n",
      "Geri Çağırma:  0.6582064297800339\n",
      "F-ölçüsü:  0.6591980345827791\n"
     ]
    }
   ],
   "source": [
    "y_pred = model_google_net.predict(x_test_rgb)\n",
    "y_pred = np.argmax(y_pred, axis=1)\n",
    "\n",
    "# Gerçek sınıf etiketleri\n",
    "y_true = np.argmax(y_test, axis=1)\n",
    "\n",
    "# Kesinlik\n",
    "precision = precision_score(y_true, y_pred, average='weighted', zero_division=1)\n",
    "\n",
    "# Geri çağırma\n",
    "recall = recall_score(y_true, y_pred, average='weighted', zero_division=1)\n",
    "\n",
    "# F-ölçüsü\n",
    "f1 = f1_score(y_true, y_pred, average='weighted', zero_division=1)\n",
    "\n",
    "print(\"Kesinlik: \", precision)\n",
    "print(\"Geri Çağırma: \", recall)\n",
    "print(\"F-ölçüsü: \", f1)"
   ]
  },
  {
   "cell_type": "code",
   "execution_count": 18,
   "id": "286d1ee9",
   "metadata": {},
   "outputs": [],
   "source": [
    "# Res-net modeli\n",
    "base_model = ResNet50(include_top=False, weights='imagenet', input_shape=(120, 120, 3))\n",
    "\n",
    "for layer in base_model.layers:\n",
    "    layer.trainable = False\n",
    "    \n",
    "x = base_model.output\n",
    "x = GlobalAveragePooling2D()(x)\n",
    "x = Dense(1024, activation='relu')(x)\n",
    "predictions = Dense(15, activation='softmax')(x)\n",
    "\n",
    "model_resnet = Model(inputs=base_model.input, outputs=predictions)"
   ]
  },
  {
   "cell_type": "code",
   "execution_count": 28,
   "id": "9f819db7",
   "metadata": {},
   "outputs": [
    {
     "name": "stdout",
     "output_type": "stream",
     "text": [
      "Epoch 1/10\n",
      "74/74 [==============================] - 78s 1s/step - loss: 1.0515 - accuracy: 0.6785 - val_loss: 0.4711 - val_accuracy: 0.8376\n",
      "Epoch 2/10\n",
      "74/74 [==============================] - 92s 1s/step - loss: 0.4278 - accuracy: 0.8446 - val_loss: 0.5406 - val_accuracy: 0.8020\n",
      "Epoch 3/10\n",
      "74/74 [==============================] - 94s 1s/step - loss: 0.3160 - accuracy: 0.8882 - val_loss: 0.4573 - val_accuracy: 0.8257\n",
      "Epoch 4/10\n",
      "74/74 [==============================] - 99s 1s/step - loss: 0.2337 - accuracy: 0.9132 - val_loss: 0.4661 - val_accuracy: 0.8342\n",
      "Epoch 5/10\n",
      "74/74 [==============================] - 94s 1s/step - loss: 0.2083 - accuracy: 0.9267 - val_loss: 0.4222 - val_accuracy: 0.8359\n",
      "Epoch 6/10\n",
      "74/74 [==============================] - 78s 1s/step - loss: 0.1464 - accuracy: 0.9492 - val_loss: 0.4354 - val_accuracy: 0.8511\n",
      "Epoch 7/10\n",
      "74/74 [==============================] - 106s 1s/step - loss: 0.1719 - accuracy: 0.9432 - val_loss: 0.6012 - val_accuracy: 0.8156\n",
      "Epoch 8/10\n",
      "74/74 [==============================] - 125s 2s/step - loss: 0.1462 - accuracy: 0.9483 - val_loss: 0.4983 - val_accuracy: 0.8409\n",
      "Epoch 9/10\n",
      "74/74 [==============================] - 111s 1s/step - loss: 0.1024 - accuracy: 0.9665 - val_loss: 0.5242 - val_accuracy: 0.8409\n",
      "Epoch 10/10\n",
      "74/74 [==============================] - 139s 2s/step - loss: 0.0861 - accuracy: 0.9674 - val_loss: 0.4785 - val_accuracy: 0.8545\n"
     ]
    },
    {
     "data": {
      "text/plain": [
       "<keras.callbacks.History at 0x23500806eb0>"
      ]
     },
     "execution_count": 28,
     "metadata": {},
     "output_type": "execute_result"
    }
   ],
   "source": [
    "model_resnet.compile(optimizer=Adam(learning_rate=0.001), loss='categorical_crossentropy', metrics=['accuracy'])\n",
    "\n",
    "model_resnet.fit(x_train_rgb, y_train, epochs=10, batch_size=32, validation_data=(x_test_rgb, y_test))"
   ]
  },
  {
   "cell_type": "code",
   "execution_count": 31,
   "id": "cd1679e2",
   "metadata": {},
   "outputs": [
    {
     "name": "stdout",
     "output_type": "stream",
     "text": [
      "19/19 - 13s - loss: 0.4785 - accuracy: 0.8545 - 13s/epoch - 693ms/step\n",
      "Test Loss: 0.47846296429634094\n",
      "Test Accuracy: 85.45%\n"
     ]
    }
   ],
   "source": [
    "test_loss, test_accuracy = model_resnet.evaluate(x_test_rgb, y_test, verbose=2)\n",
    "\n",
    "print(\"Test Loss:\", test_loss)\n",
    "print(\"Test Accuracy: {:.2%}\".format(test_accuracy))"
   ]
  },
  {
   "cell_type": "code",
   "execution_count": 32,
   "id": "628e6de5",
   "metadata": {},
   "outputs": [
    {
     "name": "stdout",
     "output_type": "stream",
     "text": [
      "19/19 [==============================] - 15s 704ms/step\n",
      "Kesinlik:  0.8820852634938682\n",
      "Geri Çağırma:  0.8544839255499154\n",
      "F-ölçüsü:  0.85562753414163\n"
     ]
    }
   ],
   "source": [
    "y_pred = model_resnet.predict(x_test_rgb)\n",
    "y_pred = np.argmax(y_pred, axis=1)\n",
    "\n",
    "y_true = np.argmax(y_test, axis=1)\n",
    "\n",
    "# Kesinlik\n",
    "precision = precision_score(y_true, y_pred, average='weighted', zero_division=1)\n",
    "\n",
    "# Geri çağırma\n",
    "recall = recall_score(y_true, y_pred, average='weighted', zero_division=1)\n",
    "\n",
    "# F-ölçüsü\n",
    "f1 = f1_score(y_true, y_pred, average='weighted', zero_division=1)\n",
    "\n",
    "print(\"Kesinlik: \", precision)\n",
    "print(\"Geri Çağırma: \", recall)\n",
    "print(\"F-ölçüsü: \", f1)"
   ]
  },
  {
   "cell_type": "code",
   "execution_count": 19,
   "id": "802cf808",
   "metadata": {},
   "outputs": [
    {
     "name": "stdout",
     "output_type": "stream",
     "text": [
      "Model: \"sequential_1\"\n",
      "_________________________________________________________________\n",
      " Layer (type)                Output Shape              Param #   \n",
      "=================================================================\n",
      " conv2d_96 (Conv2D)          (None, 120, 120, 10)      260       \n",
      "                                                                 \n",
      " max_pooling2d_6 (MaxPooling  (None, 40, 40, 10)       0         \n",
      " 2D)                                                             \n",
      "                                                                 \n",
      " conv2d_97 (Conv2D)          (None, 36, 36, 20)        5020      \n",
      "                                                                 \n",
      " max_pooling2d_7 (MaxPooling  (None, 12, 12, 20)       0         \n",
      " 2D)                                                             \n",
      "                                                                 \n",
      " flatten_1 (Flatten)         (None, 2880)              0         \n",
      "                                                                 \n",
      " dense_7 (Dense)             (None, 120)               345720    \n",
      "                                                                 \n",
      " dense_8 (Dense)             (None, 84)                10164     \n",
      "                                                                 \n",
      " dense_9 (Dense)             (None, 15)                1275      \n",
      "                                                                 \n",
      "=================================================================\n",
      "Total params: 362,439\n",
      "Trainable params: 362,439\n",
      "Non-trainable params: 0\n",
      "_________________________________________________________________\n"
     ]
    }
   ],
   "source": [
    "# 1. modelim\n",
    "model_special = Sequential()\n",
    "model_special.add(Conv2D(10, kernel_size=(5, 5), padding = 'same', activation=\"sigmoid\", input_shape=(120, 120, 1)))\n",
    "model_special.add(MaxPooling2D(pool_size=(3, 3)))\n",
    "model_special.add(Conv2D(20, kernel_size=(5, 5), padding = 'valid', activation=\"sigmoid\"))\n",
    "model_special.add(MaxPooling2D(pool_size=(3, 3)))\n",
    "model_special.add(Flatten())\n",
    "model_special.add(Dense(120, activation=\"relu\"))\n",
    "model_special.add(Dense(84, activation=\"relu\"))\n",
    "model_special.add(Dense(15, activation=\"softmax\"))\n",
    "\n",
    "model_special.build()\n",
    "model_special.summary()"
   ]
  },
  {
   "cell_type": "code",
   "execution_count": 20,
   "id": "67392852",
   "metadata": {},
   "outputs": [
    {
     "name": "stdout",
     "output_type": "stream",
     "text": [
      "Epoch 1/10\n",
      "74/74 [==============================] - 8s 99ms/step - loss: 2.7440 - accuracy: 0.0640 - val_loss: 2.7141 - val_accuracy: 0.0474 - lr: 0.0010\n",
      "Epoch 2/10\n",
      "74/74 [==============================] - 9s 128ms/step - loss: 2.7000 - accuracy: 0.0873 - val_loss: 2.6907 - val_accuracy: 0.0778 - lr: 0.0010\n",
      "Epoch 3/10\n",
      "74/74 [==============================] - 11s 151ms/step - loss: 2.6204 - accuracy: 0.1482 - val_loss: 2.5675 - val_accuracy: 0.2267 - lr: 0.0010\n",
      "Epoch 4/10\n",
      "74/74 [==============================] - 11s 143ms/step - loss: 2.2931 - accuracy: 0.2690 - val_loss: 2.1224 - val_accuracy: 0.3096 - lr: 0.0010\n",
      "Epoch 5/10\n",
      "74/74 [==============================] - 10s 134ms/step - loss: 1.8772 - accuracy: 0.3761 - val_loss: 1.7456 - val_accuracy: 0.4095 - lr: 0.0010\n",
      "Epoch 6/10\n",
      "74/74 [==============================] - 9s 128ms/step - loss: 1.6411 - accuracy: 0.4485 - val_loss: 1.6337 - val_accuracy: 0.4585 - lr: 0.0010\n",
      "Epoch 7/10\n",
      "74/74 [==============================] - 9s 128ms/step - loss: 1.4813 - accuracy: 0.5015 - val_loss: 1.4884 - val_accuracy: 0.4704 - lr: 0.0010\n",
      "Epoch 8/10\n",
      "74/74 [==============================] - 10s 133ms/step - loss: 1.3227 - accuracy: 0.5616 - val_loss: 1.3707 - val_accuracy: 0.5516 - lr: 0.0010\n",
      "Epoch 9/10\n",
      "74/74 [==============================] - 10s 131ms/step - loss: 1.2133 - accuracy: 0.5892 - val_loss: 1.3025 - val_accuracy: 0.5651 - lr: 0.0010\n",
      "Epoch 10/10\n",
      "74/74 [==============================] - 10s 129ms/step - loss: 1.0854 - accuracy: 0.6311 - val_loss: 1.1928 - val_accuracy: 0.6159 - lr: 0.0010\n"
     ]
    },
    {
     "data": {
      "text/plain": [
       "<keras.callbacks.History at 0x1e443549df0>"
      ]
     },
     "execution_count": 20,
     "metadata": {},
     "output_type": "execute_result"
    }
   ],
   "source": [
    "model_special.compile(optimizer=Adam(learning_rate=0.001), loss='categorical_crossentropy', metrics=['accuracy'])\n",
    "model_special.fit(x_train, y_train, batch_size=32, epochs=10, validation_data=(x_test, y_test), callbacks=[reduce_lr])"
   ]
  },
  {
   "cell_type": "code",
   "execution_count": 21,
   "id": "4a63052d",
   "metadata": {},
   "outputs": [
    {
     "name": "stdout",
     "output_type": "stream",
     "text": [
      "19/19 - 0s - loss: 1.1928 - accuracy: 0.6159 - 452ms/epoch - 24ms/step\n",
      "Test Loss: 1.19280207157135\n",
      "Test Accuracy: 61.59%\n"
     ]
    }
   ],
   "source": [
    "test_loss, test_accuracy = model_special.evaluate(x_test, y_test, verbose=2)\n",
    "\n",
    "print(\"Test Loss:\", test_loss) \n",
    "print(\"Test Accuracy: {:.2%}\".format(test_accuracy))"
   ]
  },
  {
   "cell_type": "code",
   "execution_count": 23,
   "id": "2caead22",
   "metadata": {},
   "outputs": [
    {
     "name": "stdout",
     "output_type": "stream",
     "text": [
      "19/19 [==============================] - 1s 23ms/step\n",
      "Kesinlik:  0.6551308768710135\n",
      "Geri Çağırma:  0.6159052453468697\n",
      "F-ölçüsü:  0.6128842864019378\n"
     ]
    }
   ],
   "source": [
    "y_pred = model_special.predict(x_test)\n",
    "y_pred = np.argmax(y_pred, axis=1)\n",
    "\n",
    "y_true = np.argmax(y_test, axis=1)\n",
    "\n",
    "# Kesinlik\n",
    "precision = precision_score(y_true, y_pred, average='weighted', zero_division=1)\n",
    "\n",
    "# Geri çağırma\n",
    "recall = recall_score(y_true, y_pred, average='weighted', zero_division=1)\n",
    "\n",
    "# F-ölçüsü\n",
    "f1 = f1_score(y_true, y_pred, average='weighted', zero_division=1)\n",
    "\n",
    "print(\"Kesinlik: \", precision)\n",
    "print(\"Geri Çağırma: \", recall)\n",
    "print(\"F-ölçüsü: \", f1)"
   ]
  },
  {
   "cell_type": "code",
   "execution_count": 24,
   "id": "877fccd3",
   "metadata": {},
   "outputs": [
    {
     "name": "stdout",
     "output_type": "stream",
     "text": [
      "Model: \"sequential_2\"\n",
      "_________________________________________________________________\n",
      " Layer (type)                Output Shape              Param #   \n",
      "=================================================================\n",
      " conv2d_98 (Conv2D)          (None, 120, 120, 10)      260       \n",
      "                                                                 \n",
      " max_pooling2d_8 (MaxPooling  (None, 40, 40, 10)       0         \n",
      " 2D)                                                             \n",
      "                                                                 \n",
      " conv2d_99 (Conv2D)          (None, 36, 36, 20)        5020      \n",
      "                                                                 \n",
      " max_pooling2d_9 (MaxPooling  (None, 12, 12, 20)       0         \n",
      " 2D)                                                             \n",
      "                                                                 \n",
      " conv2d_100 (Conv2D)         (None, 8, 8, 40)          20040     \n",
      "                                                                 \n",
      " max_pooling2d_10 (MaxPoolin  (None, 2, 2, 40)         0         \n",
      " g2D)                                                            \n",
      "                                                                 \n",
      " flatten_2 (Flatten)         (None, 160)               0         \n",
      "                                                                 \n",
      " dense_10 (Dense)            (None, 120)               19320     \n",
      "                                                                 \n",
      " dense_11 (Dense)            (None, 84)                10164     \n",
      "                                                                 \n",
      " dense_12 (Dense)            (None, 15)                1275      \n",
      "                                                                 \n",
      "=================================================================\n",
      "Total params: 56,079\n",
      "Trainable params: 56,079\n",
      "Non-trainable params: 0\n",
      "_________________________________________________________________\n"
     ]
    }
   ],
   "source": [
    "# 2. modelim\n",
    "model_special2 = Sequential()\n",
    "model_special2.add(Conv2D(10, kernel_size=(5, 5), padding = 'same', activation=\"relu\", input_shape=(120, 120, 1)))\n",
    "model_special2.add(MaxPooling2D(pool_size=(3, 3)))\n",
    "model_special2.add(Conv2D(20, kernel_size=(5, 5), padding = 'valid', activation=\"relu\"))\n",
    "model_special2.add(MaxPooling2D(pool_size=(3, 3)))\n",
    "model_special2.add(Conv2D(40, kernel_size=(5, 5), padding = 'valid', activation=\"relu\"))\n",
    "model_special2.add(MaxPooling2D(pool_size=(3, 3)))\n",
    "model_special2.add(Flatten())\n",
    "model_special2.add(Dense(120, activation=\"relu\"))\n",
    "model_special2.add(Dense(84, activation=\"relu\"))\n",
    "model_special2.add(Dense(15, activation=\"softmax\"))\n",
    "\n",
    "model_special2.build()\n",
    "model_special2.summary()"
   ]
  },
  {
   "cell_type": "code",
   "execution_count": 25,
   "id": "442f558b",
   "metadata": {},
   "outputs": [
    {
     "name": "stdout",
     "output_type": "stream",
     "text": [
      "Epoch 1/10\n",
      "74/74 [==============================] - 8s 99ms/step - loss: 4.9418 - accuracy: 0.1698 - val_loss: 2.1271 - val_accuracy: 0.3215 - lr: 0.0010\n",
      "Epoch 2/10\n",
      "74/74 [==============================] - 7s 95ms/step - loss: 1.6725 - accuracy: 0.4507 - val_loss: 1.5106 - val_accuracy: 0.4907 - lr: 0.0010\n",
      "Epoch 3/10\n",
      "74/74 [==============================] - 9s 123ms/step - loss: 1.1121 - accuracy: 0.6201 - val_loss: 1.1982 - val_accuracy: 0.5990 - lr: 0.0010\n",
      "Epoch 4/10\n",
      "74/74 [==============================] - 9s 124ms/step - loss: 0.8180 - accuracy: 0.7243 - val_loss: 1.2005 - val_accuracy: 0.6142 - lr: 0.0010\n",
      "Epoch 5/10\n",
      "74/74 [==============================] - 9s 126ms/step - loss: 0.6458 - accuracy: 0.7789 - val_loss: 1.0536 - val_accuracy: 0.6599 - lr: 0.0010\n",
      "Epoch 6/10\n",
      "74/74 [==============================] - 9s 124ms/step - loss: 0.5127 - accuracy: 0.8230 - val_loss: 0.8784 - val_accuracy: 0.7107 - lr: 0.0010\n",
      "Epoch 7/10\n",
      "74/74 [==============================] - 9s 126ms/step - loss: 0.3631 - accuracy: 0.8666 - val_loss: 1.0881 - val_accuracy: 0.6853 - lr: 0.0010\n",
      "Epoch 8/10\n",
      "74/74 [==============================] - 9s 124ms/step - loss: 0.2568 - accuracy: 0.9127 - val_loss: 0.9591 - val_accuracy: 0.7090 - lr: 0.0010\n",
      "Epoch 9/10\n",
      "74/74 [==============================] - 9s 126ms/step - loss: 0.2066 - accuracy: 0.9352 - val_loss: 1.0025 - val_accuracy: 0.7259 - lr: 0.0010\n",
      "Epoch 10/10\n",
      "74/74 [==============================] - 9s 125ms/step - loss: 0.2608 - accuracy: 0.9136 - val_loss: 0.8923 - val_accuracy: 0.7496 - lr: 0.0010\n"
     ]
    },
    {
     "data": {
      "text/plain": [
       "<keras.callbacks.History at 0x1e44e53a430>"
      ]
     },
     "execution_count": 25,
     "metadata": {},
     "output_type": "execute_result"
    }
   ],
   "source": [
    "model_special2.compile(optimizer=Adam(learning_rate=0.001), loss='categorical_crossentropy', metrics=['accuracy'])\n",
    "model_special2.fit(x_train, y_train, batch_size=32, epochs=10, validation_data=(x_test, y_test), callbacks=[reduce_lr])"
   ]
  },
  {
   "cell_type": "code",
   "execution_count": 26,
   "id": "cf1766e9",
   "metadata": {},
   "outputs": [
    {
     "name": "stdout",
     "output_type": "stream",
     "text": [
      "19/19 - 0s - loss: 0.8923 - accuracy: 0.7496 - 453ms/epoch - 24ms/step\n",
      "Test Loss: 0.892257034778595\n",
      "Test Accuracy: 74.96%\n"
     ]
    }
   ],
   "source": [
    "test_loss, test_accuracy = model_special2.evaluate(x_test, y_test, verbose=2)\n",
    "\n",
    "print(\"Test Loss:\", test_loss)\n",
    "print(\"Test Accuracy: {:.2%}\".format(test_accuracy))"
   ]
  },
  {
   "cell_type": "code",
   "execution_count": 27,
   "id": "8e7be30a",
   "metadata": {},
   "outputs": [
    {
     "name": "stdout",
     "output_type": "stream",
     "text": [
      "19/19 [==============================] - 1s 24ms/step\n",
      "Kesinlik:  0.7619531926825325\n",
      "Geri Çağırma:  0.7495769881556683\n",
      "F-ölçüsü:  0.7488824986374076\n"
     ]
    }
   ],
   "source": [
    "y_pred = model_special2.predict(x_test)\n",
    "y_pred = np.argmax(y_pred, axis=1)\n",
    "\n",
    "y_true = np.argmax(y_test, axis=1)\n",
    "\n",
    "# Kesinlik\n",
    "precision = precision_score(y_true, y_pred, average='weighted', zero_division=1)\n",
    "\n",
    "# Geri çağırma\n",
    "recall = recall_score(y_true, y_pred, average='weighted', zero_division=1)\n",
    "\n",
    "# F-ölçüsü\n",
    "f1 = f1_score(y_true, y_pred, average='weighted', zero_division=1)\n",
    "\n",
    "print(\"Kesinlik: \", precision)\n",
    "print(\"Geri Çağırma: \", recall)\n",
    "print(\"F-ölçüsü: \", f1)\n"
   ]
  }
 ],
 "metadata": {
  "kernelspec": {
   "display_name": "Python 3 (ipykernel)",
   "language": "python",
   "name": "python3"
  },
  "language_info": {
   "codemirror_mode": {
    "name": "ipython",
    "version": 3
   },
   "file_extension": ".py",
   "mimetype": "text/x-python",
   "name": "python",
   "nbconvert_exporter": "python",
   "pygments_lexer": "ipython3",
   "version": "3.9.13"
  }
 },
 "nbformat": 4,
 "nbformat_minor": 5
}
